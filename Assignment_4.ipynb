{
  "nbformat": 4,
  "nbformat_minor": 0,
  "metadata": {
    "colab": {
      "name": "Assignment-4.ipynb",
      "provenance": [],
      "authorship_tag": "ABX9TyPl643TwyneQQuttp1LVHOZ",
      "include_colab_link": true
    },
    "kernelspec": {
      "name": "python3",
      "display_name": "Python 3"
    }
  },
  "cells": [
    {
      "cell_type": "markdown",
      "metadata": {
        "id": "view-in-github",
        "colab_type": "text"
      },
      "source": [
        "<a href=\"https://colab.research.google.com/github/18K41A0256/Assignment-4/blob/main/Assignment_4.ipynb\" target=\"_parent\"><img src=\"https://colab.research.google.com/assets/colab-badge.svg\" alt=\"Open In Colab\"/></a>"
      ]
    },
    {
      "cell_type": "markdown",
      "metadata": {
        "id": "prbjWL8hZrg9"
      },
      "source": [
        "1.\tFind the salary for the experience of 4.2 years and 5.2 years from the given dataset (salary_data) using simple linear regression. Train the model up to 10 iteration. And plot graph for error rate."
      ]
    },
    {
      "cell_type": "code",
      "metadata": {
        "id": "xJizXOKmso7q",
        "outputId": "7ddcf8c3-73b2-4fe0-b17e-cffcb10aa3d4",
        "colab": {
          "base_uri": "https://localhost:8080/",
          "height": 330
        }
      },
      "source": [
        "import pandas as pd\n",
        "import numpy as np\n",
        "import matplotlib.pyplot as plt\n",
        "\n",
        "sn=pd.read_csv(\"/content/Salary_Data.csv\")\n",
        "l=len(sn.YearsExperience)\n",
        "er=[]\n",
        "m1=[]\n",
        "c1=[]\n",
        "\n",
        "def compute_error(c, m):\n",
        "  total_error=0\n",
        "  m1.append(m)\n",
        "  c1.append(c)\n",
        "  for i in range(l):\n",
        "    x=sn.iloc[i,0]\n",
        "    y=sn.iloc[i,1]\n",
        "    total_error+=((((m * x) + c) - y)**2)\n",
        "  er.append(total_error/l)\n",
        "\n",
        "def gradient_descent(c_current, m_current, learning_rate, num_iterations) :\n",
        "  c_gradient=0.0\n",
        "  m_gradient=0.0\n",
        "  N=float(l)\n",
        "  cg=[]\n",
        "  mg=[]\n",
        "  for i in range(l) :\n",
        "    x=sn.iloc[i,0]\n",
        "    y=sn.iloc[i,1]\n",
        "    cg.append(((m_current * x) + c_current)-y)\n",
        "    mg.append(x * (((m_current * x) + c_current)-y))\n",
        "  c_gradient=(np.array(cg).sum())/N\n",
        "  m_gradient=(np.array(mg).sum())/N\n",
        "  c_new=c_current - (learning_rate * c_gradient)\n",
        "  m_new=m_current - (learning_rate * m_gradient)\n",
        "  compute_error(c_new ,m_new)\n",
        "  return [c_new, m_new]\n",
        "\n",
        "def gradient_descent_runner(starting_c, starting_m, learning_rate, num_iterations):\n",
        "  c=starting_c\n",
        "  m=starting_m\n",
        "  for i in range(num_iterations):\n",
        "     c,m=gradient_descent(c, m, learning_rate, num_iterations)\n",
        "\n",
        "def run():\n",
        "  sn=pd.read_csv(\"/content/Salary_Data.csv\")\n",
        "  l=len(sn.YearsExperience)\n",
        "  initial_c=1\n",
        "  initial_m=1\n",
        "  learning_rate=0.001\n",
        "  num_iterations=100\n",
        "  compute_error(initial_c, initial_m)\n",
        "  gradient_descent_runner(initial_c, initial_m, learning_rate, num_iterations)\n",
        "\n",
        "run()\n",
        "it=np.arange(0,101)\n",
        "print(er)\n",
        "plt.plot(it,er)"
      ],
      "execution_count": null,
      "outputs": [
        {
          "output_type": "stream",
          "text": [
            "[6501848514.9766655, 6043155809.999003, 5617602511.958138, 5222794112.463662, 4856509119.926863, 4516686558.116214, 4201414368.0130796, 3908918647.6990714, 3637553669.7225385, 3385792619.766901, 3152219004.502688, 2935518680.270959, 2734472457.739533, 2547949240.9147115, 2374899661.8982987, 2214350175.5694904, 2065397580.9594848, 1927203938.4878032, 1798991854.457118, 1680040106.2700388, 1569679583.7487867, 1467289523.7175255, 1372294016.6574583, 1284158765.7758925, 1202388080.250935, 1126522085.7312999, 1056134136.393309, 990828413.9914494, 930237700.3911302, 874021311.0485768, 821863177.8085096, 773470070.23056, 728569945.4349339, 686910417.1810755, 648257335.5640789, 612393469.3360788, 579117283.437392, 548241804.857962, 519593570.4467402, 493011650.74780536, 468346744.36985356, 445460337.792628, 424223925.8820935, 404518288.7278087, 386232820.7328967, 369264908.18106705, 353519351.77795017, 338907830.9170901, 325348406.6557582, 312765060.60357976, 301087267.12907165, 290249596.47668207, 280191346.5608729, 270856201.3651659, 262191914.02379686, 254150012.80251306, 246685528.32392615, 239756740.50237888, 233324943.76420215, 227354229.23213857, 221811282.64817742, 216665196.89760807, 211887298.07927468, 207450984.14323914, 203331575.18779033, 199506174.57333866, 195953540.07162273, 192653964.3251143, 189589163.94390884, 186742176.6159944, 184097265.65188706, 181639831.42645723, 179356329.21958512, 177234192.99329665, 175261764.6764304, 173428228.55889085, 171723550.4262867, 170138421.09243757, 168664204.01197702, 167292886.67824122, 166017035.532937, 164829754.13383996, 163724644.34511596, 162695770.33185902, 161737625.15623072, 160845099.78721544, 160013454.34959832, 159238291.4503662, 158515531.43242797, 157841389.41639343, 157212354.00121453, 156625167.50382483, 156076807.6265779, 155564470.44931698, 155085554.65036377, 154637646.8676306, 154218508.11747482, 153826061.19486818, 153458378.9839753, 153113673.61335912, 152790286.39478403]\n"
          ],
          "name": "stdout"
        },
        {
          "output_type": "execute_result",
          "data": {
            "text/plain": [
              "[<matplotlib.lines.Line2D at 0x7f89a6fd2278>]"
            ]
          },
          "metadata": {
            "tags": []
          },
          "execution_count": 8
        },
        {
          "output_type": "display_data",
          "data": {
            "image/png": "[encoded data removed]",
            "text/plain": [
              "<Figure size 432x288 with 1 Axes>"
            ]
          },
          "metadata": {
            "tags": [],
            "needs_background": "light"
          }
        }
      ]
    },
    {
      "cell_type": "markdown",
      "metadata": {
        "id": "Wi5ROugbvtk2"
      },
      "source": [
        "2.\tFind perfect model to predict brain weight from given dataset (datasets_56097_107686_headbrain). Train the model up to 15 iterations and visualize your results."
      ]
    },
    {
      "cell_type": "code",
      "metadata": {
        "id": "KleAhqaIt8tP",
        "outputId": "89304652-cabf-4398-b535-af4bcb7dcb79",
        "colab": {
          "base_uri": "https://localhost:8080/",
          "height": 330
        }
      },
      "source": [
        "bd=pd.read_csv(\"/content/datasets_56097_107686_headbrain.csv\")\n",
        "l=len(bd.Gender)\n",
        "x1=[]\n",
        "x2=[]\n",
        "x3=[]\n",
        "y=[]\n",
        "for i in range(l):\n",
        "  x1.append(bd.iloc[i,0])\n",
        "  x2.append(bd.iloc[i,1])\n",
        "  x3.append(bd.iloc[i,2])\n",
        "  y.append(bd.iloc[i,3])\n",
        "\n",
        "error=[]\n",
        "w0n=[]\n",
        "w1n=[]\n",
        "w2n=[]\n",
        "w3n=[]\n",
        "\n",
        "def compute_error(w0, w1, w2, w3):\n",
        "  total_error=[]\n",
        "  w0n.append(w0)\n",
        "  w1n.append(w1)\n",
        "  w2n.append(w2)\n",
        "  w3n.append(w3)\n",
        "  for i in range(l):\n",
        "    ypp=w0 + (w1 * x1[i]) + (w2 * x2[i]) + (w3 * x3[i])\n",
        "    er=((ypp - y)**2)\n",
        "    total_error.append(er)\n",
        "  error.append(np.mean(total_error))\n",
        "\n",
        "def gradient_descent(w0_current, w1_current, w2_current, w3_current, learningrate) :\n",
        "  w0g=[]\n",
        "  w1g=[]\n",
        "  w2g=[]\n",
        "  w3g=[]\n",
        "  for i in range(l) :\n",
        "    yp=w0_current + (w1_current * x1[i]) + (w2_current * x2[i]) + (w3_current * x3[i])\n",
        "    w0g.append(yp-y[i])\n",
        "    w1g.append(x1[i] * (yp - y[i]))\n",
        "    w2g.append(x2[i] * (yp - y[i]))\n",
        "    w3g.append(x3[i] * (yp - y[i]))\n",
        "  w0_gradient = np.mean(w0g)\n",
        "  w1_gradient = np.mean(w1g)\n",
        "  w2_gradient = np.mean(w2g)\n",
        "  w3_gradient = np.mean(w3g)\n",
        "  w0_new=w0_current - (learningrate * w0_gradient)\n",
        "  w1_new=w1_current - (learningrate * w1_gradient)\n",
        "  w2_new=w2_current - (learningrate * w2_gradient)\n",
        "  w3_new=w3_current - (learningrate * w3_gradient)\n",
        "  compute_error(w0_new ,w1_new, w2_new, w3_new)\n",
        "  return [w0_new ,w1_new, w2_new, w3_new]\n",
        "\n",
        "def gradient_descent_runner(starting_w0, starting_w1, starting_w2, starting_w3, learning_rate, num_iterations):\n",
        "  w0=starting_w0\n",
        "  w1=starting_w1\n",
        "  w2=starting_w2\n",
        "  w3=starting_w3\n",
        "  for i in range(num_iterations):\n",
        "     w0,w1,w2,w3=gradient_descent(w0, w1, w2, w3, learning_rate)\n",
        "\n",
        "def run():\n",
        "  initial_w0=1\n",
        "  initial_w1=1\n",
        "  initial_w2=1\n",
        "  initial_w3=1\n",
        "  learning_rate=0.00000001\n",
        "  num_iterations=50\n",
        "  compute_error(initial_w0, initial_w1, initial_w2, initial_w3)\n",
        "  gradient_descent_runner(initial_w0, initial_w1, initial_w2, initial_w3, learning_rate, num_iterations)\n",
        "\n",
        "run()\n",
        "it=np.arange(0,51)\n",
        "print(error)\n",
        "plt.plot(it,error)"
      ],
      "execution_count": null,
      "outputs": [
        {
          "output_type": "stream",
          "text": [
            "[5693492.403888266, 4288811.31432874, 3233171.3196616126, 2439760.602746196, 1843369.53677245, 1395013.773044341, 1057895.8658463156, 804372.1912217707, 613674.8843738952, 470200.8312294317, 362226.54666548094, 280942.91761504376, 219730.18464543534, 173613.35928305882, 138853.16253884928, 112638.75159109986, 92856.8992758816, 77918.5980146934, 66628.7966039284, 58088.535830800494, 51621.42076301754, 46718.37428364326, 42996.12360872372, 40166.00350380741, 38010.51011227226, 36365.6778740121, 35107.83163294502, 34143.626274589216, 33402.55681812768, 32831.32513002998, 32389.602091047727, 32046.83872480505, 31779.865939702864, 31571.08724804336, 31407.11744092548, 31277.756720618945, 31175.217232667484, 31093.53955784596, 31028.15221675501, 30975.538882264722, 30932.986744901656, 30898.3960529749, 30870.1357931229, 30846.934193953868, 30827.795530483683, 30811.936809232073, 30798.739495227608, 30787.71263210542, 30778.464602121254, 30770.681447259776, 30764.110180553307]\n"
          ],
          "name": "stdout"
        },
        {
          "output_type": "execute_result",
          "data": {
            "text/plain": [
              "[<matplotlib.lines.Line2D at 0x7f89a6ee3b38>]"
            ]
          },
          "metadata": {
            "tags": []
          },
          "execution_count": 10
        },
        {
          "output_type": "display_data",
          "data": {
            "image/png": "[encoded data removed]",
            "text/plain": [
              "<Figure size 432x288 with 1 Axes>"
            ]
          },
          "metadata": {
            "tags": [],
            "needs_background": "light"
          }
        }
      ]
    },
    {
      "cell_type": "markdown",
      "metadata": {
        "id": "zQ6fi8vtyEcI"
      },
      "source": [
        "3.\tRecall the heart dataset from canvas and built a logistic regression model for predicting heart attach based on the given features.(age ,sex, cp, trestbps, chol, fbs, restesg ,thalach ,exang, oldpeak, slope, ca , thal,)"
      ]
    },
    {
      "cell_type": "code",
      "metadata": {
        "id": "HGsrf7o0yKOL",
        "outputId": "c7e1635a-77e5-44c9-d259-c4ef6b2eba4a",
        "colab": {
          "base_uri": "https://localhost:8080/",
          "height": 330
        }
      },
      "source": [
        "import numpy as np\n",
        "import pandas as pd\n",
        "import matplotlib.pyplot as plt\n",
        "\n",
        "er=[]\n",
        "w_1=[]\n",
        "w_2=[]\n",
        "w_3=[]\n",
        "w_4=[]\n",
        "w_5=[]\n",
        "w_6=[]\n",
        "w_7=[]\n",
        "w_8=[]\n",
        "w_9=[]\n",
        "w_10=[]\n",
        "w_11=[]\n",
        "w_12=[]\n",
        "w_13=[]\n",
        "w_0=[]\n",
        "te=[]\n",
        "def compute_error(W0, W1, W2, W3, W4, W5, W6, W7, W8, W9, W10, W11, W12, W13, x1, x2, x3, x4, x5, x6, x7, x8, x9, x10, x11, x12, x13, y1):\n",
        "    totalError = 0\n",
        "    x1 = x1\n",
        "    x2 = x2\n",
        "    x3 = x3\n",
        "    x4 = x4\n",
        "    x5 = x5\n",
        "    x6 = x6\n",
        "    x7 = x7\n",
        "    x8 = x8\n",
        "    x9 = x9\n",
        "    x10 = x10\n",
        "    x11= x11\n",
        "    x12 = x12\n",
        "    x13 = x13\n",
        "    y1 = y1\n",
        "    #print(c,m)\n",
        "    w_1.append(W1)\n",
        "    w_2.append(W2)\n",
        "    w_3.append(W3)\n",
        "    w_4.append(W4)\n",
        "    w_5.append(W5)\n",
        "    w_6.append(W6)\n",
        "    w_7.append(W7)\n",
        "    w_8.append(W8)\n",
        "    w_9.append(W9)\n",
        "    w_10.append(W10)\n",
        "    w_11.append(W11)\n",
        "    w_12.append(W12)\n",
        "    w_13.append(W13)\n",
        "    w_0.append(W0)\n",
        "    for i in range(0,len(x1)):\n",
        "        a = (W0+W1*x1[i]+W2*x2[i]+W3*x3[i]+W4*x4[i]+W5*x5[i]+W6*x6[i]+W7*x7[i]+W8*x8[i]+W9*x9[i]+W10*x10[i]+W11*x11[i]+W12*x12[i]+W13*x13[i])\n",
        "        a=(1/(1+(np.exp(-1 * a))))\n",
        "        a = ((y1[i]*np.log2(a))+(1-y1[i])*np.log2(1-a))\n",
        "        totalError+=(a)\n",
        "      #te.append(totalError)\n",
        "    #print(te)\n",
        "    #err=(np.array(te).sum())\n",
        "    er.append(-1.0*(totalError/len(x1)))\n",
        "    #print(er)\n",
        "\n",
        "def step_gradient(w0_current, w1_current, w2_current, w3_current,w4_current, w5_current, w6_current, w7_current, w8_current, w9_current, w10_current, w11_current, w12_current, w13_current, x1, x2, x3, x4, x5, x6, x7, x8, x9, x10, x11, x12, x13, y1, learningRate):\n",
        "    w0_gradient = 0.0\n",
        "    w1_gradient = 0.0\n",
        "    w2_gradient = 0.0\n",
        "    w3_gradient = 0.0\n",
        "    w4_gradient = 0.0\n",
        "    w5_gradient = 0.0\n",
        "    w6_gradient = 0.0\n",
        "    w7_gradient = 0.0\n",
        "    w8_gradient = 0.0\n",
        "    w9_gradient = 0.0\n",
        "    w10_gradient = 0.0\n",
        "    w11_gradient = 0.0\n",
        "    w12_gradient = 0.0\n",
        "    w13_gradient = 0.0\n",
        "    N = float(len(x1))\n",
        "    x1 = x1\n",
        "    x2 = x2\n",
        "    x3 = x3\n",
        "    x4 = x4\n",
        "    x5 = x5\n",
        "    x6 = x6\n",
        "    x7 = x7\n",
        "    x8 = x8\n",
        "    x9 = x9\n",
        "    x10 = x10\n",
        "    x11 = x11\n",
        "    x12 = x12\n",
        "    x13 = x13\n",
        "    y1 = y1\n",
        "    wg0=[]\n",
        "    wg1=[]\n",
        "    wg2=[]\n",
        "    wg3=[]\n",
        "    wg4=[]\n",
        "    wg5=[]\n",
        "    wg6=[]\n",
        "    wg7=[]\n",
        "    wg8=[]\n",
        "    wg9=[]\n",
        "    wg10=[]\n",
        "    wg11=[]\n",
        "    wg12=[]\n",
        "    wg13=[]\n",
        "    for i in range(0,len(x1)):\n",
        "        wg0.append((w0_current+w1_current*x1[i]+w2_current*x2[i]+w3_current*x3[i]+w4_current*x4[i]+w5_current*x5[i]+w6_current*x6[i]+w7_current*x7[i]+w8_current*x8[i]+w9_current*x9[i]+w10_current*x10[i]+w11_current*x11[i]+w12_current*x12[i]+w13_current*x13[i]))\n",
        "        wg1.append(x1[i] * ((w0_current+w1_current*x1[i]+w2_current*x2[i]+w3_current*x3[i]+w4_current*x4[i]+w5_current*x5[i]+w6_current*x6[i]+w7_current*x7[i]+w8_current*x8[i]+w9_current*x9[i]+w10_current*x10[i]+w11_current*x11[i]+w12_current*x12[i]+w13_current*x13[i])))\n",
        "        wg2.append(x2[i] * ((w0_current+w1_current*x1[i]+w2_current*x2[i]+w3_current*x3[i]+w4_current*x4[i]+w5_current*x5[i]+w6_current*x6[i]+w7_current*x7[i]+w8_current*x8[i]+w9_current*x9[i]+w10_current*x10[i]+w11_current*x11[i]+w12_current*x12[i]+w13_current*x13[i])))\n",
        "        wg3.append(x3[i] * ((w0_current+w1_current*x1[i]+w2_current*x2[i]+w3_current*x3[i]+w4_current*x4[i]+w5_current*x5[i]+w6_current*x6[i]+w7_current*x7[i]+w8_current*x8[i]+w9_current*x9[i]+w10_current*x10[i]+w11_current*x11[i]+w12_current*x12[i]+w13_current*x13[i])))\n",
        "        wg4.append(x4[i] * ((w0_current+w1_current*x1[i]+w2_current*x2[i]+w3_current*x3[i]+w4_current*x4[i]+w5_current*x5[i]+w6_current*x6[i]+w7_current*x7[i]+w8_current*x8[i]+w9_current*x9[i]+w10_current*x10[i]+w11_current*x11[i]+w12_current*x12[i]+w13_current*x13[i])))\n",
        "        wg5.append(x5[i] * ((w0_current+w1_current*x1[i]+w2_current*x2[i]+w3_current*x3[i]+w4_current*x4[i]+w5_current*x5[i]+w6_current*x6[i]+w7_current*x7[i]+w8_current*x8[i]+w9_current*x9[i]+w10_current*x10[i]+w11_current*x11[i]+w12_current*x12[i]+w13_current*x13[i])))\n",
        "        wg6.append(x6[i] * ((w0_current+w1_current*x1[i]+w2_current*x2[i]+w3_current*x3[i]+w4_current*x4[i]+w5_current*x5[i]+w6_current*x6[i]+w7_current*x7[i]+w8_current*x8[i]+w9_current*x9[i]+w10_current*x10[i]+w11_current*x11[i]+w12_current*x12[i]+w13_current*x13[i])))\n",
        "        wg7.append(x7[i] * ((w0_current+w1_current*x1[i]+w2_current*x2[i]+w3_current*x3[i]+w4_current*x4[i]+w5_current*x5[i]+w6_current*x6[i]+w7_current*x7[i]+w8_current*x8[i]+w9_current*x9[i]+w10_current*x10[i]+w11_current*x11[i]+w12_current*x12[i]+w13_current*x13[i])))\n",
        "        wg8.append(x8[i] * ((w0_current+w1_current*x1[i]+w2_current*x2[i]+w3_current*x3[i]+w4_current*x4[i]+w5_current*x5[i]+w6_current*x6[i]+w7_current*x7[i]+w8_current*x8[i]+w9_current*x9[i]+w10_current*x10[i]+w11_current*x11[i]+w12_current*x12[i]+w13_current*x13[i])))\n",
        "        wg9.append(x9[i] * ((w0_current+w1_current*x1[i]+w2_current*x2[i]+w3_current*x3[i]+w4_current*x4[i]+w5_current*x5[i]+w6_current*x6[i]+w7_current*x7[i]+w8_current*x8[i]+w9_current*x9[i]+w10_current*x10[i]+w11_current*x11[i]+w12_current*x12[i]+w13_current*x13[i])))\n",
        "        wg10.append(x10[i] * ((w0_current+w1_current*x1[i]+w2_current*x2[i]+w3_current*x3[i]+w4_current*x4[i]+w5_current*x5[i]+w6_current*x6[i]+w7_current*x7[i]+w8_current*x8[i]+w9_current*x9[i]+w10_current*x10[i]+w11_current*x11[i]+w12_current*x12[i]+w13_current*x13[i])))\n",
        "        wg11.append(x11[i] * ((w0_current+w1_current*x1[i]+w2_current*x2[i]+w3_current*x3[i]+w4_current*x4[i]+w5_current*x5[i]+w6_current*x6[i]+w7_current*x7[i]+w8_current*x8[i]+w9_current*x9[i]+w10_current*x10[i]+w11_current*x11[i]+w12_current*x12[i]+w13_current*x13[i])))\n",
        "        wg12.append(x12[i] * ((w0_current+w1_current*x1[i]+w2_current*x2[i]+w3_current*x3[i]+w4_current*x4[i]+w5_current*x5[i]+w6_current*x6[i]+w7_current*x7[i]+w8_current*x8[i]+w9_current*x9[i]+w10_current*x10[i]+w11_current*x11[i]+w12_current*x12[i]+w13_current*x13[i])))\n",
        "        wg13.append(x13[i] * ((w0_current+w1_current*x1[i]+w2_current*x2[i]+w3_current*x3[i]+w4_current*x4[i]+w5_current*x5[i]+w6_current*x6[i]+w7_current*x7[i]+w8_current*x8[i]+w9_current*x9[i]+w10_current*x10[i]+w11_current*x11[i]+w12_current*x12[i]+w13_current*x13[i])))\n",
        "        wg0[i] = (1/(1+(np.exp(-1 * wg0[i]))))\n",
        "        wg1[i] = (1/(1+(np.exp(-1 * wg1[i]))))\n",
        "        wg2[i] = (1/(1+(np.exp(-1 * wg2[i]))))\n",
        "        wg3[i] = (1/(1+(np.exp(-1 * wg3[i]))))\n",
        "        wg4[i] = (1/(1+(np.exp(-1 * wg4[i]))))\n",
        "        wg5[i] = (1/(1+(np.exp(-1 * wg5[i]))))\n",
        "        wg6[i] = (1/(1+(np.exp(-1 * wg6[i]))))\n",
        "        wg7[i] = (1/(1+(np.exp(-1 * wg7[i]))))\n",
        "        wg8[i] = (1/(1+(np.exp(-1 * wg8[i]))))\n",
        "        wg9[i] = (1/(1+(np.exp(-1 * wg9[i]))))\n",
        "        wg10[i] = (1/(1+(np.exp(-1 * wg10[i]))))\n",
        "        wg11[i] = (1/(1+(np.exp(-1 * wg11[i]))))\n",
        "        wg12[i] = (1/(1+(np.exp(-1 * wg12[i]))))\n",
        "        wg13[i] = (1/(1+(np.exp(-1 * wg13[i]))))\n",
        "        \n",
        "        wg0[i] =(y1[i]-wg0[i]) \n",
        "        wg1[i] =(x1[i]*(y1[i]-wg1[i])) \n",
        "        wg2[i] = (x2[i]*(y1[i]-wg2[i]))\n",
        "        wg3[i] = (x3[i]*(y1[i]-wg3[i]))\n",
        "        wg4[i] = (x4[i]*(y1[i]-wg4[i]))\n",
        "        wg5[i] = (x5[i]*(y1[i]-wg5[i]))\n",
        "        wg6[i] = (x6[i]*(y1[i]-wg6[i]))\n",
        "        wg7[i] = (x7[i]*(y1[i]-wg7[i]))\n",
        "        wg8[i] = (x8[i]*(y1[i]-wg8[i]))\n",
        "        wg9[i] = (x9[i]*(y1[i]-wg9[i]))\n",
        "        wg10[i] =(x10[i]*(y1[i]-wg10[i]))\n",
        "        wg11[i] =(x11[i]*(y1[i]-wg11[i]))\n",
        "        wg12[i] = (x12[i]*(y1[i]-wg12[i]))\n",
        "        wg13[i] = (x13[i]*(y1[i]-wg13[i]))\n",
        "        \n",
        "        \n",
        "        \n",
        "    \n",
        "    w0_gradient=(np.array(wg0).sum())/N\n",
        "    w1_gradient=(np.array(wg1).sum())/N\n",
        "    w2_gradient=(np.array(wg2).sum())/N\n",
        "    w3_gradient=(np.array(wg3).sum())/N\n",
        "    w4_gradient=(np.array(wg4).sum())/N\n",
        "    w5_gradient=(np.array(wg5).sum())/N\n",
        "    w6_gradient=(np.array(wg6).sum())/N\n",
        "    w7_gradient=(np.array(wg7).sum())/N\n",
        "    w8_gradient=(np.array(wg8).sum())/N\n",
        "    w9_gradient=(np.array(wg9).sum())/N\n",
        "    w10_gradient=(np.array(wg10).sum())/N\n",
        "    w11_gradient=(np.array(wg11).sum())/N\n",
        "    w12_gradient=(np.array(wg12).sum())/N\n",
        "    w13_gradient=(np.array(wg13).sum())/N\n",
        "    new_w0 = w0_current - (learningRate * w0_gradient)\n",
        "    new_w1 = w1_current - (learningRate * w1_gradient)\n",
        "    new_w2 = w2_current - (learningRate * w2_gradient)\n",
        "    new_w3 = w3_current - (learningRate * w3_gradient)\n",
        "    new_w4 = w4_current - (learningRate * w4_gradient)\n",
        "    new_w5 = w5_current - (learningRate * w5_gradient)\n",
        "    new_w6 = w6_current - (learningRate * w6_gradient)\n",
        "    new_w7 = w7_current - (learningRate * w7_gradient)\n",
        "    new_w8 = w8_current - (learningRate * w8_gradient)\n",
        "    new_w9 = w9_current - (learningRate * w9_gradient)\n",
        "    new_w10 = w10_current - (learningRate * w10_gradient)\n",
        "    new_w11 = w11_current - (learningRate * w11_gradient)\n",
        "    new_w12 = w12_current - (learningRate * w12_gradient)\n",
        "    new_w13 = w13_current - (learningRate * w13_gradient)\n",
        "    compute_error(new_w0,new_w1,new_w2,new_w3,new_w4,new_w5,new_w6,new_w7,new_w8,new_w9,new_w10,new_w11,new_w12,new_w13,x1,x2,x3,x4,x5,x6,x7,x8,x9,x10,x11,x12,x13, y1)\n",
        "    return [new_w0,new_w1,new_w2,new_w3,new_w4,new_w5,new_w6,new_w7,new_w8,new_w9,new_w10,new_w11,new_w12,new_w13]\n",
        "\n",
        "def gradient_descent_runner(x1, x2, x3,  x4, x5, x6, x7, x8, x9, x10, x11, x12, x13,y1, starting_w0, starting_w1, starting_w2,starting_w3, starting_w4, starting_w5, starting_w6, starting_w7, starting_w8, starting_w9, starting_w10, starting_w11, starting_w12, starting_w13, learning_rate, num_iterations):\n",
        "    w0 = starting_w0\n",
        "    w1 = starting_w1\n",
        "    w2 = starting_w2\n",
        "    w3 = starting_w3\n",
        "    w4 = starting_w4\n",
        "    w5 = starting_w5\n",
        "    w6 = starting_w6\n",
        "    w7 = starting_w7\n",
        "    w8 = starting_w8\n",
        "    w9 = starting_w9\n",
        "    w10 = starting_w10\n",
        "    w11= starting_w11\n",
        "    w12 = starting_w12\n",
        "    w13 = starting_w13\n",
        "    for i in range(num_iterations):\n",
        "        w0, w1, w2, w3,w4, w5, w6, w7, w8, w9, w10, w11, w12, w13 = step_gradient(w0, w1, w2, w3, w4, w5, w6, w7, w8, w9, w10, w11, w12, w13, x1, x2, x3,x4,x5,x6,x7,x8,x9,x10,x11,x12,x13, y1, learning_rate)\n",
        "      #print(c,m)\n",
        "   \n",
        "def run():\n",
        "    data = pd.read_csv('/content/heart.csv')\n",
        "    z=[]\n",
        "    for x in data.columns:\n",
        "        z.append(x)\n",
        "    data=data[z].apply(lambda rec:(rec - rec.mean())/rec.std(), axis=0)\n",
        "    sn = data\n",
        "    x11=sn.iloc[:,0:1]\n",
        "    x22=sn.iloc[:,1:2]\n",
        "    x33=sn.iloc[:,2:3]\n",
        "    x44=sn.iloc[:,3:4]\n",
        "    x55=sn.iloc[:,4:5]\n",
        "    x66=sn.iloc[:,5:6]\n",
        "    x77=sn.iloc[:,6:7]\n",
        "    x88=sn.iloc[:,7:8]\n",
        "    x99=sn.iloc[:,8:9]\n",
        "    x1010=sn.iloc[:,9:10]\n",
        "    x1111=sn.iloc[:,10:11]\n",
        "    x1212=sn.iloc[:,11:12]\n",
        "    x1313=sn.iloc[:,12:13]\n",
        "    y11=sn.iloc[:,3:4]\n",
        "    x1=np.array(x11)\n",
        "    x2=np.array(x22)\n",
        "    x3=np.array(x33)\n",
        "    x4=np.array(x44)\n",
        "    x5=np.array(x55)\n",
        "    x6=np.array(x66)\n",
        "    x7=np.array(x77)\n",
        "    x8=np.array(x88)\n",
        "    x9=np.array(x99)\n",
        "    x10=np.array(x1010)\n",
        "    x11=np.array(x1111)\n",
        "    x12=np.array(x1212)\n",
        "    x13=np.array(x1313)\n",
        "    y1=np.array(y11)\n",
        "    initial_w0 = 1 \n",
        "    initial_w1 = 1 \n",
        "    initial_w2 = 1\n",
        "    initial_w3 = 1\n",
        "    initial_w4 = 1\n",
        "    initial_w5 = 1\n",
        "    initial_w6 = 1\n",
        "    initial_w7 = 1\n",
        "    initial_w8 = 1\n",
        "    initial_w9 = 1\n",
        "    initial_w10 = 1\n",
        "    initial_w11 = 1\n",
        "    initial_w12 = 1\n",
        "    initial_w13 = 1\n",
        "    learning_rate = 0.00000001\n",
        "    num_iterations = 50\n",
        "    compute_error(initial_w0, initial_w1, initial_w2, initial_w3, initial_w4, initial_w5, initial_w6, initial_w7, initial_w8, initial_w9, initial_w10, initial_w11, initial_w12, initial_w13, x1, x2, x3,x4,x5,x6,x7,x8,x9,x10,x11,x12,x13, y1)\n",
        "    gradient_descent_runner(x1, x2, x3,x4,x5,x6,x7,x8,x9,x10,x11,x12,x13, y1, initial_w0, initial_w1, initial_w2,initial_w3,initial_w4,initial_w5,initial_w6,initial_w7,initial_w8,initial_w9,initial_w10,initial_w11,initial_w12, initial_w13,learning_rate, num_iterations)\n",
        "    \n",
        "\n",
        "\n",
        "run()\n",
        "it=np.arange(0,51)\n",
        "print(er)\n",
        "plt.plot(it,er)"
      ],
      "execution_count": null,
      "outputs": [
        {
          "output_type": "stream",
          "text": [
            "[array([0.7113902]), array([0.71139022]), array([0.71139024]), array([0.71139026]), array([0.71139027]), array([0.71139029]), array([0.71139031]), array([0.71139033]), array([0.71139035]), array([0.71139036]), array([0.71139038]), array([0.7113904]), array([0.71139042]), array([0.71139043]), array([0.71139045]), array([0.71139047]), array([0.71139049]), array([0.7113905]), array([0.71139052]), array([0.71139054]), array([0.71139056]), array([0.71139058]), array([0.71139059]), array([0.71139061]), array([0.71139063]), array([0.71139065]), array([0.71139066]), array([0.71139068]), array([0.7113907]), array([0.71139072]), array([0.71139073]), array([0.71139075]), array([0.71139077]), array([0.71139079]), array([0.71139081]), array([0.71139082]), array([0.71139084]), array([0.71139086]), array([0.71139088]), array([0.71139089]), array([0.71139091]), array([0.71139093]), array([0.71139095]), array([0.71139096]), array([0.71139098]), array([0.711391]), array([0.71139102]), array([0.71139104]), array([0.71139105]), array([0.71139107]), array([0.71139109])]\n"
          ],
          "name": "stdout"
        },
        {
          "output_type": "execute_result",
          "data": {
            "text/plain": [
              "[<matplotlib.lines.Line2D at 0x7f89a5bb3828>]"
            ]
          },
          "metadata": {
            "tags": []
          },
          "execution_count": 11
        },
        {
          "output_type": "display_data",
          "data": {
            "image/png": "[encoded data removed]",
            "text/plain": [
              "<Figure size 432x288 with 1 Axes>"
            ]
          },
          "metadata": {
            "tags": [],
            "needs_background": "light"
          }
        }
      ]
    }
  ]
}